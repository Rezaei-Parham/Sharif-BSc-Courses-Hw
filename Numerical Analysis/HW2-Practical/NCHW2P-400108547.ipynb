{
 "cells": [
  {
   "cell_type": "markdown",
   "metadata": {},
   "source": [
    "Student Name: Parham Rezaei\n",
    "</br>\n",
    "STDID: 400108547"
   ]
  },
  {
   "cell_type": "markdown",
   "metadata": {},
   "source": [
    "# P1"
   ]
  },
  {
   "cell_type": "code",
   "execution_count": 1,
   "metadata": {},
   "outputs": [
    {
     "name": "stdout",
     "output_type": "stream",
     "text": [
      "Part1 \n",
      "x = [2, 3, 5, 8, 10]\n",
      "y = 1/(1-x) = [2.6413482343945587, 2.1411200080598674, 1.4905654681200393, 3.989358246623382, 2.77260367946603]\n",
      "real value at 6.5: 2.953732775613646\n",
      "lagrange_interpolation(x,y,8) = 2.448243198195968\n",
      "newton_interpolation(x,y,8) = 2.4482431981959683\n",
      "==================================\n",
      "Part2 \n",
      "x = [5, 7, 9, 11]\n",
      "y = 1/(1-x) = [-0.25, -0.16666666666666666, -0.125, -0.1]\n",
      "real value at 8: -0.14285714285714285\n",
      "lagrange_interpolation(x,y,8) = -0.1421875\n",
      "newton_interpolation(x,y,8) = -0.1421875\n",
      "==================================\n"
     ]
    }
   ],
   "source": [
    "\n",
    "from math import sin,sqrt\n",
    "def lagrange_interpolation(x, y, x0):\n",
    "    y0 = 0\n",
    "    for i in range(len(x)):\n",
    "        p = 1\n",
    "        for j in range(len(x)):\n",
    "            if i != j:\n",
    "                p *= (x0 - x[j]) / (x[i] - x[j])\n",
    "        y0 += p * y[i]\n",
    "    return y0\n",
    "\n",
    "def newton_difference_calculator(x,y):\n",
    "    n = len(x)\n",
    "    d0 = x\n",
    "    d1 = y\n",
    "    d2 = []\n",
    "    for i in range(n-1):\n",
    "        d2.append((d1[i+1]-d1[i])/(d0[i+1]-d0[i]))\n",
    "    d3 = []\n",
    "    for i in range(n-2):\n",
    "        d3.append((d2[i+1]-d2[i])/(d0[i+2]-d0[i]))\n",
    "    d4 = []\n",
    "    for i in range(n-3):\n",
    "        d4.append((d3[i+1]-d3[i])/(d0[i+3]-d0[i]))\n",
    "    d5 = []\n",
    "    for i in range(n-4):\n",
    "        d5.append((d4[i+1]-d4[i])/(d0[i+4]-d0[i]))\n",
    "\n",
    "    return [d0,d1,d2,d3,d4,d5]\n",
    "\n",
    "def newton_interpolation(x,y,x0):\n",
    "    n = len(x)\n",
    "    diffs = newton_difference_calculator(x,y)\n",
    "    res = 0\n",
    "    for i in range(n):\n",
    "        p = 1\n",
    "        for j in range(i):\n",
    "            p *= (x0 - x[j])\n",
    "        res += p * diffs[i+1][0]\n",
    "    return res\n",
    "\n",
    "\n",
    "x = [2,3,5,8,10]\n",
    "y = [sin(i) + sqrt(1+i) for i in x]\n",
    "print(f\"Part1 \\nx = {x}\\ny = 1/(1-x) = {y}\\nreal value at 6.5: {sin(6.5)+sqrt(1+6.5)}\\nlagrange_interpolation(x,y,8) = {lagrange_interpolation(x,y,6.5)}\\nnewton_interpolation(x,y,8) = {newton_interpolation(x,y,6.5)}\")\n",
    "print(\"==================================\")\n",
    "x = [5,7,9,11]\n",
    "y = [1/(1-i) for i in x]\n",
    "print(f\"Part2 \\nx = {x}\\ny = 1/(1-x) = {y}\\nreal value at 8: {1/(1-8)}\\nlagrange_interpolation(x,y,8) = {lagrange_interpolation(x,y,8)}\\nnewton_interpolation(x,y,8) = {newton_interpolation(x,y,8)}\")\n",
    "print(\"==================================\")"
   ]
  },
  {
   "cell_type": "markdown",
   "metadata": {},
   "source": [
    "# P2"
   ]
  },
  {
   "cell_type": "code",
   "execution_count": 35,
   "metadata": {},
   "outputs": [
    {
     "data": {
      "image/png": "[encoded data removed]",
      "text/plain": [
       "<Figure size 432x288 with 1 Axes>"
      ]
     },
     "metadata": {
      "needs_background": "light"
     },
     "output_type": "display_data"
    },
    {
     "data": {
      "image/png": "[encoded data removed]",
      "text/plain": [
       "<Figure size 432x288 with 1 Axes>"
      ]
     },
     "metadata": {
      "needs_background": "light"
     },
     "output_type": "display_data"
    },
    {
     "name": "stdout",
     "output_type": "stream",
     "text": [
      "log error: 0.06043482615822719\n"
     ]
    }
   ],
   "source": [
    "import numpy as np\n",
    "from math import sin\n",
    "import matplotlib.pyplot as plt\n",
    "\n",
    "def estimate(x,y):\n",
    "    n = len(x)\n",
    "    vm = np.vander(x,6, increasing=True)\n",
    "    vmv = vm.T@vm\n",
    "\n",
    "    vmv_inv = np.linalg.inv(vmv)\n",
    "\n",
    "    c = vmv_inv@vm.T @ y\n",
    "    \n",
    "    return c\n",
    "\n",
    "def cal_x(c,x):\n",
    "        y = 0\n",
    "        for i in reversed(c):\n",
    "            y = y * x + i\n",
    "        return y\n",
    "\n",
    "f = lambda x: x**6+3*x**2\n",
    "\n",
    "x = np.linspace(0,1000,80)\n",
    "y = [f(i) for i in x]\n",
    "cof = estimate(x,y)\n",
    "y_generated = np.polyval(np.flip(cof), x)\n",
    "plt.plot(x,y)\n",
    "plt.scatter(x, y_generated, label='Sampled points', color='red')\n",
    "plt.show()\n",
    "f = lambda x: np.log(x)\n",
    "\n",
    "x = np.linspace(1,1000,80)\n",
    "y = [f(i) for i in x]\n",
    "cof = estimate(x,y)\n",
    "y_generated = np.polyval(np.flip(cof), x)\n",
    "plt.plot(x,y)\n",
    "plt.scatter(x, y_generated, label='Sampled points', color='red')\n",
    "plt.show()\n",
    "\n",
    "\n",
    "print(f\"log error: {np.mean(np.square(y-y_generated))}\")"
   ]
  },
  {
   "cell_type": "markdown",
   "metadata": {},
   "source": [
    "We observe that it is fitting pretty well"
   ]
  },
  {
   "cell_type": "markdown",
   "metadata": {},
   "source": [
    "# P3"
   ]
  },
  {
   "cell_type": "markdown",
   "metadata": {},
   "source": [
    "> Two implementations: one without sympy, and one with sympy"
   ]
  },
  {
   "cell_type": "markdown",
   "metadata": {},
   "source": [
    "coding from scratch without scympy"
   ]
  },
  {
   "cell_type": "code",
   "execution_count": 3,
   "metadata": {},
   "outputs": [
    {
     "name": "stdout",
     "output_type": "stream",
     "text": [
      "PART1 iters: 10, mine: 5.269826831102215, real: 5.2673671899525285, error: 0.0024596411496862203 which is less than 0.01\n",
      "PART2 iters: 10, mine: 1.8754446931519992, real: 1.8719058687583727, error: 0.0035388243936265162 which is less than 0.01\n"
     ]
    }
   ],
   "source": [
    "\n",
    "from math import sin,cos,factorial,sqrt\n",
    "import numpy as np\n",
    "\n",
    "def sin_derivative(x, i):\n",
    "    sd = 0\n",
    "    if i%4 == 0:\n",
    "        sd = sin(x)\n",
    "    elif i%4 == 1:\n",
    "        sd = cos(x)\n",
    "    elif i%4 == 2:\n",
    "        sd = -sin(x)\n",
    "    else:\n",
    "        sd = -cos(x)\n",
    "    xd = 0\n",
    "    sign = 1\n",
    "    if i>=1:\n",
    "        sign = (-1)**(i-1)\n",
    "    exp = -(2*i-1)/2\n",
    "    coeff = 5\n",
    "    for t in range(2*i-1):\n",
    "        if t%2 == 1:\n",
    "            coeff *= t\n",
    "    coeff /= 2**i\n",
    "    xd = sign*coeff*x**exp\n",
    "    if i==0:\n",
    "        return xd+sd-10\n",
    "    return xd+sd\n",
    "\n",
    "def e_derivative(x, i):\n",
    "    coeff5 = (1/5)**i\n",
    "    coeff1 = (-1)**i\n",
    "    return coeff5*np.exp(x/5)+coeff1*np.exp(-x)\n",
    "\n",
    "def taylor(derv,x, n, base):\n",
    "    sum = 0\n",
    "    for i in range(n+1):\n",
    "        sum += derv(base, i)/factorial(i)*(x-base)**i\n",
    "    return sum\n",
    "\n",
    "# PART 1\n",
    "def p1calculator(i):\n",
    "    mine = taylor(sin_derivative,10,i,7)\n",
    "    real = sin(10)+5*sqrt(10)-10\n",
    "    print(f\"PART1 iters: 10, mine: {mine}, real: {real}, error: {abs(mine-real)} which is less than 0.01\")\n",
    "p1calculator(10)\n",
    "\n",
    "# PART 2\n",
    "def p2calculator(i):\n",
    "    mine = taylor(e_derivative,3,i,0)\n",
    "    real = np.exp(3/5)+np.exp(-3)\n",
    "    print(f\"PART2 iters: 10, mine: {mine}, real: {real}, error: {abs(mine-real)} which is less than 0.01\")\n",
    "p2calculator(10)\n",
    "\n",
    "\n"
   ]
  },
  {
   "cell_type": "markdown",
   "metadata": {},
   "source": [
    "using sympy"
   ]
  },
  {
   "cell_type": "code",
   "execution_count": 4,
   "metadata": {},
   "outputs": [
    {
     "name": "stdout",
     "output_type": "stream",
     "text": [
      "Part 1: 10 iteration, real value: 5.26736718995253, estimated value: 5.26982683110222, error : 0.00245964114968888 which is less than 0.01\n",
      "Part 2: 10 iteration, real value: 1.87190586875837, estimated value: 1.87544469315200, error : 0.00353882439362696 which is less than 0.01\n",
      "***********Part 1***********\n",
      "\n"
     ]
    },
    {
     "data": {
      "image/png": "[encoded data removed]",
      "text/plain": [
       "<Figure size 432x288 with 1 Axes>"
      ]
     },
     "metadata": {
      "needs_background": "light"
     },
     "output_type": "display_data"
    },
    {
     "data": {
      "image/png": "[encoded data removed]",
      "text/plain": [
       "<Figure size 432x288 with 1 Axes>"
      ]
     },
     "metadata": {
      "needs_background": "light"
     },
     "output_type": "display_data"
    },
    {
     "name": "stdout",
     "output_type": "stream",
     "text": [
      "***********Part 2***********\n",
      "\n"
     ]
    },
    {
     "data": {
      "image/png": "[encoded data removed]",
      "text/plain": [
       "<Figure size 432x288 with 1 Axes>"
      ]
     },
     "metadata": {
      "needs_background": "light"
     },
     "output_type": "display_data"
    },
    {
     "data": {
      "image/png": "[encoded data removed]",
      "text/plain": [
       "<Figure size 432x288 with 1 Axes>"
      ]
     },
     "metadata": {
      "needs_background": "light"
     },
     "output_type": "display_data"
    }
   ],
   "source": [
    "import matplotlib.pyplot as plt\n",
    "import numpy as np\n",
    "from sympy import *\n",
    "# taylor using sympy\n",
    "x = symbols('x')\n",
    "p1func = sin(x)+5*sqrt(x)-10\n",
    "p2func = exp(x/5)+exp(-x)\n",
    "def taylor(func,x,xeval,base,n):\n",
    "    sum = 0\n",
    "    for i in range(n+1):\n",
    "        sum += diff(func, x, i)/factorial(i)*(xeval-base)**i\n",
    "    return sum.evalf(subs={x:base})\n",
    "print(f\"Part 1: 10 iteration, real value: {p1func.evalf(subs={x:10})}, estimated value: {taylor(p1func,x,10,7,10)},\\\n",
    " error : {abs(p1func.evalf(subs={x:10})-taylor(p1func,x,10,7,10))} which is less than 0.01\")\n",
    "print(f\"Part 2: 10 iteration, real value: {p2func.evalf(subs={x:3})}, estimated value: {taylor(p2func,x,3,0,10)},\\\n",
    " error : {abs(p2func.evalf(subs={x:3})-taylor(p2func,x,3,0,10))} which is less than 0.01\")\n",
    "\n",
    "# plots\n",
    "r = np.linspace(2,10,100)\n",
    "def fpart1(x):\n",
    "  return np.sin(x)+5*np.sqrt(x)-10\n",
    "def fpart2(x):\n",
    "  return np.exp(x/5)+np.exp(-x)\n",
    "\n",
    "print(\"***********Part 1***********\\n\")\n",
    "y = [fpart1(i) for i in r]\n",
    "plt.plot(r,y)\n",
    "plt.title(\"function plot\")\n",
    "plt.show()\n",
    "y = [taylor(p1func,x,i,7,10) for i in r]\n",
    "plt.plot(r,y)\n",
    "plt.title(\"taylor plot\")\n",
    "plt.show()\n",
    "\n",
    "print(\"***********Part 2***********\\n\")\n",
    "y = [fpart2(i) for i in r]\n",
    "plt.plot(r,y)\n",
    "plt.title(\"function plot\")\n",
    "plt.show()\n",
    "y = [taylor(p2func,x,i,0,10) for i in r]\n",
    "plt.plot(r,y)\n",
    "plt.title(\"taylor plot\")\n",
    "plt.show()\n"
   ]
  },
  {
   "cell_type": "markdown",
   "metadata": {},
   "source": [
    "# P4"
   ]
  },
  {
   "cell_type": "code",
   "execution_count": 3,
   "metadata": {},
   "outputs": [
    {
     "name": "stdout",
     "output_type": "stream",
     "text": [
      "Only newton: 0.258293158494957\n",
      "Using taylor on -3: 0.25716369090195385\n",
      "Using taylor on 4: 0.26496238676231143\n",
      "Using taylor on 7: -2.5761828849487967\n"
     ]
    }
   ],
   "source": [
    "\n",
    "from math import sin,cos,factorial\n",
    "df =[lambda x: cos(x)+4*x-2,lambda x: -sin(x)+4, lambda x: -cos(x), lambda x: sin(x), lambda x: cos(x), lambda x: -sin(x), lambda x: -cos(x), lambda x: sin(x), lambda x: cos(x), lambda x: -sin(x), lambda x: -cos(x)]\n",
    "\n",
    "def newton(df,x0,tol=1e-5,maxiter=1000):\n",
    "    x = x0\n",
    "    for _ in range(maxiter):\n",
    "        x = x - df[0](x)/df[1](x)\n",
    "        if abs(df[0](x)) < tol:\n",
    "            return x\n",
    "    return x\n",
    "\n",
    "def taylor_coeffs(x,base,df):\n",
    "    func = 0\n",
    "    for i in range(11):\n",
    "        func += df[i](base)*((x-base)**i)/factorial(i)\n",
    "    dfunc = 0\n",
    "    for i in range(10):\n",
    "        dfunc += df[i+1](base)*((x-base)**i)/factorial(i)\n",
    "\n",
    "    return func,dfunc\n",
    "\n",
    "def newton_on_taylor(base,df,x0):\n",
    "    d = [lambda x: taylor_coeffs(x,base,df)[0], lambda x: taylor_coeffs(x,base,df)[1]]\n",
    "    return newton(d,x0)\n",
    "\n",
    "print(f\"Only newton: {newton(df,0)}\")\n",
    "print(f\"Using taylor on -3: {newton_on_taylor(-3,df,0)}\")\n",
    "print(f\"Using taylor on 4: {newton_on_taylor(4,df,0)}\")\n",
    "print(f\"Using taylor on 7: {newton_on_taylor(7,df,0)}\")\n"
   ]
  }
 ],
 "metadata": {
  "kernelspec": {
   "display_name": "base",
   "language": "python",
   "name": "python3"
  },
  "language_info": {
   "codemirror_mode": {
    "name": "ipython",
    "version": 3
   },
   "file_extension": ".py",
   "mimetype": "text/x-python",
   "name": "python",
   "nbconvert_exporter": "python",
   "pygments_lexer": "ipython3",
   "version": "3.9.12"
  }
 },
 "nbformat": 4,
 "nbformat_minor": 2
}
